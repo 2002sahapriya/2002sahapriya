{
  "nbformat": 4,
  "nbformat_minor": 0,
  "metadata": {
    "colab": {
      "provenance": [],
      "authorship_tag": "ABX9TyNGXB66W58V9ON0t7NyklFJ",
      "include_colab_link": true
    },
    "kernelspec": {
      "name": "python3",
      "display_name": "Python 3"
    },
    "language_info": {
      "name": "python"
    }
  },
  "cells": [
    {
      "cell_type": "markdown",
      "metadata": {
        "id": "view-in-github",
        "colab_type": "text"
      },
      "source": [
        "<a href=\"https://colab.research.google.com/github/2002sahapriya/2002sahapriya/blob/main/%5BCO_487%5D_A2_Q5.ipynb\" target=\"_parent\"><img src=\"https://colab.research.google.com/assets/colab-badge.svg\" alt=\"Open In Colab\"/></a>"
      ]
    },
    {
      "cell_type": "markdown",
      "source": [
        "# Question 5: Hash Collisions\n",
        "In this problem you will find hash collisions (almost).\n",
        "Be sure to include your 8-character UW user ID.\n",
        "Your goal is to construct partial collisions with strings that start with your 8-character UW user\n",
        "ID. By “partial collision”, I mean two inputs whose hashes start with the same bits, but are not\n",
        "entirely the same. For example,\n",
        "```\n",
        "SHA256(“sejaques0”) = 0x3946348d1c8b9e321e98d63bbfa51890f9ab6432e4e7697b3eb49c52b5b5c195\n",
        "```\n",
        "and\n",
        "```\n",
        "SHA256(“sejaques00”) = 0x38580e2e0102d592be8c74c727769c38e49f6c471cdb6a1b43482f302d07ce7d\n",
        "```\n",
        "collide on the first 4 bits: the first nibble (in hex) is 3, i.e., the first 4 bits are 0011 for both hashes.\n",
        "Your goal in this question will be to produce larger collisions of hashes that start with your UW ID.\n",
        "\n",
        "**Do not forget**: In hex, 1 byte is two characters (i.e. “38” is one byte; “3” is only half a byte)\n",
        "\n",
        "---\n",
        "\n",
        "**MY UW ID:** `20889604`\n",
        "\n",
        "---\n"
      ],
      "metadata": {
        "id": "WTKxrTHacdu6"
      }
    },
    {
      "cell_type": "markdown",
      "source": [
        "## (a) Find two such strings that collide only on the first byte.\n",
        "\n",
        "Solution:\n",
        "We want to find two different inputs that both start with \"20089604\" and whose SHA-256 hashes share the same byte (i.e. the same first 8 bits) while the next byte is different.\n",
        "\n",
        "#### How we might do it:\n",
        "A brute force search is feasible. For a one-byte collision the chance that two random hashes share the same first byte is 1 in $2^8=256$. We can use a dictionary to store hashes by their first byte and then stop when a collision is found. We repeatedly add a counter to \"20889604\" and compute the SHA-256 hash. When we find two different candidates that yield the same first byte, we print them.\n",
        "\n",
        "#### Solution:\n",
        "```\n",
        "Input 1: b'2088960412'\n",
        "Hash 1: ffa7f7eb7a6144934aa95851230ad2c8c4b04151dbe1196ee8380e5166bccaaa\n",
        "Input 2: b'2088960419'\n",
        "Hash 2: ff846f32ed4ab1c6e7665cfe376755cdea5b4504fcdd64980e7c6a5397548b73\n",
        "```\n",
        "\n",
        "The two strings with hash collision at the first byte are `\"2088960412\"` and `\"2088960419\"`\n",
        "\n",
        "---\n"
      ],
      "metadata": {
        "id": "CtImMfZGcxnj"
      }
    },
    {
      "cell_type": "code",
      "execution_count": 2,
      "metadata": {
        "colab": {
          "base_uri": "https://localhost:8080/"
        },
        "id": "EMOP8L8LcXif",
        "outputId": "c7921200-b532-4a7c-b491-cd4b41454aa1"
      },
      "outputs": [
        {
          "output_type": "stream",
          "name": "stdout",
          "text": [
            "1-byte collision found!\n",
            "Input 1: b'2088960412'\n",
            "Hash 1: ffa7f7eb7a6144934aa95851230ad2c8c4b04151dbe1196ee8380e5166bccaaa\n",
            "Input 2: b'2088960419'\n",
            "Hash 2: ff846f32ed4ab1c6e7665cfe376755cdea5b4504fcdd64980e7c6a5397548b73\n"
          ]
        }
      ],
      "source": [
        "import hashlib\n",
        "\n",
        "prefix = \"20889604\".encode() # UW ID as bytes\n",
        "n = 1 # number of bytes to match\n",
        "\n",
        "seen = {} # maps n-byte hash prefix to candidate input\n",
        "i = 0\n",
        "\n",
        "while True:\n",
        "  # Create a candidate by appending an integer converted to bytes\n",
        "  candidate = prefix + str(i).encode()\n",
        "  hash = hashlib.sha256(candidate).digest()\n",
        "  hash_prefix = hash[:n]\n",
        "\n",
        "  if hash_prefix in seen:\n",
        "    # Check if the candidate is different\n",
        "    if seen[hash_prefix] != candidate:\n",
        "      print(\"1-byte collision found!\")\n",
        "      print(\"Input 1:\", seen[hash_prefix])\n",
        "      print(\"Hash 1:\", hashlib.sha256(seen[hash_prefix]).hexdigest())\n",
        "      print(\"Input 2:\", candidate)\n",
        "      print(\"Hash 2:\", hashlib.sha256(candidate).hexdigest())\n",
        "      break\n",
        "  else:\n",
        "    seen[hash_prefix] = candidate\n",
        "\n",
        "  i += 1"
      ]
    },
    {
      "cell_type": "markdown",
      "source": [
        "## (b) Find two such strings that collide only on the first 3 bytes.\n",
        "\n",
        "#### Solution: Now we need two different inputs starting with \"20889604\" whose SHA-256 hashs are the same for the first **3** bytes (24 bits) and differ in the 4th byte.\n",
        "\n",
        "#### How we might do it: The approach is similar to part (a) except now we set  `n = 3`. The probability that two random hashes share the first 3 bytes is 1 in $2^{24} \\approx 16$ million.\n",
        "\n",
        "Note: We include a check that the (n+1)th byte (here, the 4th byte) is different, to ensure the collision is “only” on 3 bytes.\n",
        "\n",
        "```\n",
        "Input 1: b'208896046966'\n",
        "Hash 1: 43899ae3395315efa429ce47ccf2aca16c5c0d10c55e4370b18b3e9405042542\n",
        "Input 2: b'208896048979'\n",
        "Hash 2: 43899a91510c97795307012c0f88247a2395b0497f32835818daea961aa70ac2\n",
        "```\n",
        "\n",
        "---"
      ],
      "metadata": {
        "id": "wO3OweyOhp04"
      }
    },
    {
      "cell_type": "code",
      "source": [
        "import hashlib\n",
        "\n",
        "prefix = \"20889604\".encode()\n",
        "n = 3  # match first 3 bytes\n",
        "\n",
        "seen = {}\n",
        "i = 0\n",
        "\n",
        "while True:\n",
        "    candidate = prefix + str(i).encode()\n",
        "    h = hashlib.sha256(candidate).digest()\n",
        "    hash_prefix = h[:n]\n",
        "\n",
        "    if hash_prefix in seen and seen[hash_prefix] != candidate:\n",
        "        # Also check that the next byte is different.\n",
        "        h1 = hashlib.sha256(seen[hash_prefix]).digest()\n",
        "        h2 = h\n",
        "        if h1[n] != h2[n]:\n",
        "            print(\"3-byte collision found!\")\n",
        "            print(\"Input 1:\", seen[hash_prefix])\n",
        "            print(\"Hash 1:\", hashlib.sha256(seen[hash_prefix]).hexdigest())\n",
        "            print(\"Input 2:\", candidate)\n",
        "            print(\"Hash 2:\", hashlib.sha256(candidate).hexdigest())\n",
        "            break\n",
        "    else:\n",
        "        seen[hash_prefix] = candidate\n",
        "    i += 1"
      ],
      "metadata": {
        "colab": {
          "base_uri": "https://localhost:8080/"
        },
        "id": "Vl1JBqCfib1M",
        "outputId": "aa3a774a-3ebc-43b6-eef4-4c65bd161a9d"
      },
      "execution_count": 3,
      "outputs": [
        {
          "output_type": "stream",
          "name": "stdout",
          "text": [
            "3-byte collision found!\n",
            "Input 1: b'208896046966'\n",
            "Hash 1: 43899ae3395315efa429ce47ccf2aca16c5c0d10c55e4370b18b3e9405042542\n",
            "Input 2: b'208896048979'\n",
            "Hash 2: 43899a91510c97795307012c0f88247a2395b0497f32835818daea961aa70ac2\n"
          ]
        }
      ]
    },
    {
      "cell_type": "markdown",
      "source": [
        "# (c) Fnd two such strings that collide only on the first 6 bytes.\n",
        "\n",
        "Solution: We need to find two different strings starting with \"20889604\" whose hashes agree on the first 6 bytes (48 bites) but have a different 7th byte.\n",
        "\n",
        "How we do it: This is the same as before, but with `n = 6`. The expected number of hashses is about $2^{(8 * 6)/2} = 2^{24}$ due to the birthday paradox.\n",
        "\n",
        "```\n",
        "Input 1: b'208896047920393'\n",
        "Hash 1: 7fffa312623ddc96c0bbd20bfb3b52a2ecb604ad21706e09972180ee01b244c7\n",
        "Input 2: b'2088960410192960'\n",
        "Hash 2: 7fffa312623dcdeeb5d1db6d00ecff09df0719f8d383ff7dde9158ca488a5a40\n",
        "```"
      ],
      "metadata": {
        "id": "fW7KJw5M-8a5"
      }
    },
    {
      "cell_type": "code",
      "source": [
        "import hashlib\n",
        "\n",
        "prefix = \"20889604\".encode()\n",
        "n = 6  # match first 6 bytes\n",
        "\n",
        "seen = {}\n",
        "i = 0\n",
        "\n",
        "while True:\n",
        "    candidate = prefix + str(i).encode()\n",
        "    h = hashlib.sha256(candidate).digest()\n",
        "    hash_prefix = h[:n]\n",
        "\n",
        "    if hash_prefix in seen and seen[hash_prefix] != candidate:\n",
        "        h1 = hashlib.sha256(seen[hash_prefix]).digest()\n",
        "        h2 = h\n",
        "        if h1[n] != h2[n]:\n",
        "            print(\"6-byte collision found!\")\n",
        "            print(\"Input 1:\", seen[hash_prefix])\n",
        "            print(\"Hash 1:\", hashlib.sha256(seen[hash_prefix]).hexdigest())\n",
        "            print(\"Input 2:\", candidate)\n",
        "            print(\"Hash 2:\", hashlib.sha256(candidate).hexdigest())\n",
        "            break\n",
        "    else:\n",
        "        seen[hash_prefix] = candidate\n",
        "    i += 1"
      ],
      "metadata": {
        "colab": {
          "base_uri": "https://localhost:8080/"
        },
        "id": "DMhGvoea_nwn",
        "outputId": "a7c7f724-919e-4756-ed78-7e782401ff96"
      },
      "execution_count": 1,
      "outputs": [
        {
          "output_type": "stream",
          "name": "stdout",
          "text": [
            "6-byte collision found!\n",
            "Input 1: b'208896047920393'\n",
            "Hash 1: 7fffa312623ddc96c0bbd20bfb3b52a2ecb604ad21706e09972180ee01b244c7\n",
            "Input 2: b'2088960410192960'\n",
            "Hash 2: 7fffa312623dcdeeb5d1db6d00ecff09df0719f8d383ff7dde9158ca488a5a40\n"
          ]
        }
      ]
    },
    {
      "cell_type": "markdown",
      "source": [
        "# (d) Find two strings that collide on the first 8 bytes.\n",
        "\n",
        "Solution: Now we seek a collision on the first 8 bytes (64 bits). However, for longer collisions the search space becomes largers so we have to choose to work with raw bytes in the suffix - for example, generating random bytes rather than only numbers - to speed up the search."
      ],
      "metadata": {
        "id": "wqMUVT3NAFIn"
      }
    },
    {
      "cell_type": "code",
      "source": [
        "import hashlib\n",
        "import random\n",
        "import multiprocessing as mp\n",
        "\n",
        "PREFIX = b\"20889604\"  # UW ID\n",
        "TARGET_BYTES = 8      # We want an 8-byte collision\n",
        "DIST_BITS = 16        # Distinguished point: lower 16 bits must be zero\n",
        "DIST_MASK = (1 << DIST_BITS) - 1\n",
        "\n",
        "def f(x):\n",
        "    x_bytes = x.to_bytes(8, byteorder='big')\n",
        "    h = hashlib.sha256(PREFIX + x_bytes).digest()\n",
        "    return int.from_bytes(h[:TARGET_BYTES], 'big')\n",
        "\n",
        "def is_distinguished(x):\n",
        "    return (x & DIST_MASK) == 0\n",
        "\n",
        "def retrace_collision(seed1, seed2):\n",
        "    # Re-run both chains until they meet\n",
        "    x1, x2 = seed1, seed2\n",
        "    while x1 != x2:\n",
        "        x1 = f(x1)\n",
        "        x2 = f(x2)\n",
        "    return x1\n",
        "\n",
        "def worker(shared_dist, shared_lock, found, collision_result, process_id):\n",
        "    random_gen = random.SystemRandom()\n",
        "    while not found.value:\n",
        "        seed = random_gen.getrandbits(64)\n",
        "        x = seed\n",
        "        chain_length = 0\n",
        "        while not is_distinguished(x):\n",
        "            x = f(x)\n",
        "            chain_length += 1\n",
        "            if found.value:\n",
        "                return\n",
        "        d_point = x  # distinguished point\n",
        "        key = d_point\n",
        "        with shared_lock:  # use our explicit lock\n",
        "            if key in shared_dist:\n",
        "                old_seed, old_chain_length = shared_dist[key]\n",
        "                if old_seed != seed:\n",
        "                    collision_state = retrace_collision(old_seed, seed)\n",
        "                    msg1 = PREFIX + old_seed.to_bytes(8, 'big')\n",
        "                    msg2 = PREFIX + seed.to_bytes(8, 'big')\n",
        "                    h1 = hashlib.sha256(msg1).digest()\n",
        "                    h2 = hashlib.sha256(msg2).digest()\n",
        "                    if h1[:TARGET_BYTES] == h2[:TARGET_BYTES] and (len(h1) <= TARGET_BYTES or h1[TARGET_BYTES] != h2[TARGET_BYTES]):\n",
        "                        collision_result['msg1'] = msg1.hex()\n",
        "                        collision_result['hash1'] = h1.hex()\n",
        "                        collision_result['msg2'] = msg2.hex()\n",
        "                        collision_result['hash2'] = h2.hex()\n",
        "                        found.value = True\n",
        "                        print(f\"Process {process_id}: Collision found!\")\n",
        "                        return\n",
        "            else:\n",
        "                shared_dist[key] = (seed, chain_length)\n",
        "\n",
        "def main():\n",
        "    manager = mp.Manager()\n",
        "    shared_dist = manager.dict()\n",
        "    collision_result = manager.dict()\n",
        "    found = manager.Value('i', False)\n",
        "    # Create an explicit lock.\n",
        "    shared_lock = manager.Lock()\n",
        "\n",
        "    num_workers = mp.cpu_count()\n",
        "    processes = []\n",
        "    for i in range(num_workers):\n",
        "        p = mp.Process(target=worker, args=(shared_dist, shared_lock, found, collision_result, i))\n",
        "        p.start()\n",
        "        processes.append(p)\n",
        "\n",
        "    for p in processes:\n",
        "        p.join()\n",
        "\n",
        "    if collision_result:\n",
        "        print(\"Collision details:\")\n",
        "        print(\"Input 1 (hex):\", collision_result.get('msg1'))\n",
        "        print(\"Hash 1:\", collision_result.get('hash1'))\n",
        "        print(\"Input 2 (hex):\", collision_result.get('msg2'))\n",
        "        print(\"Hash 2:\", collision_result.get('hash2'))\n",
        "    else:\n",
        "        print(\"No collision found.\")\n",
        "\n",
        "if __name__ == \"__main__\":\n",
        "    main()\n"
      ],
      "metadata": {
        "id": "sVTLBslIAr4P"
      },
      "execution_count": null,
      "outputs": []
    }
  ]
}